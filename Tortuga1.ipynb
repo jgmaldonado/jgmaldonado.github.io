{
 "cells": [
  {
   "cell_type": "code",
   "execution_count": 1,
   "metadata": {},
   "outputs": [],
   "source": [
    "#tortuga basica\n",
    "import turtle\n",
    "\n",
    "turtle.Turtle()\n",
    "wn = turtle.Screen()\n",
    "wn.bgcolor(\"light green\")\n",
    "wn.title(\"Turtle\")\n",
    "\n",
    "\n",
    "turtle.shape(\"turtle\")\n",
    "\n",
    "turtle.pensize(4)\n",
    "turtle.pencolor(\"red\")\n",
    "\n",
    "\n",
    "\n",
    "turtle.forward(25)\n",
    "\n",
    "turtle.forward(50)\n",
    "turtle.left(90)\n",
    "turtle.forward(50)\n",
    "turtle.left(90)\n",
    "turtle.forward(50)\n",
    "turtle.left(90)\n",
    "turtle.forward(50)\n",
    "turtle.left(90)\n",
    "\n",
    "\n",
    "wn.exitonclick()"
   ]
  },
  {
   "cell_type": "code",
   "execution_count": 1,
   "metadata": {},
   "outputs": [],
   "source": [
    " # Python program to draw hexagon \n",
    "# using Turtle Programming \n",
    "import turtle  \n",
    "polygon = turtle.Turtle() \n",
    "  \n",
    "num_sides = 6\n",
    "side_length = 70\n",
    "angle = 360.0 / num_sides  \n",
    "  \n",
    "for i in range(num_sides): \n",
    "    polygon.forward(side_length) \n",
    "    polygon.right(angle) \n",
    "      \n",
    "turtle.done()    "
   ]
  },
  {
   "cell_type": "code",
   "execution_count": null,
   "metadata": {},
   "outputs": [],
   "source": []
  },
  {
   "cell_type": "code",
   "execution_count": null,
   "metadata": {},
   "outputs": [],
   "source": []
  }
 ],
 "metadata": {
  "kernelspec": {
   "display_name": "Python 3",
   "language": "python",
   "name": "python3"
  },
  "language_info": {
   "codemirror_mode": {
    "name": "ipython",
    "version": 3
   },
   "file_extension": ".py",
   "mimetype": "text/x-python",
   "name": "python",
   "nbconvert_exporter": "python",
   "pygments_lexer": "ipython3",
   "version": "3.7.3"
  }
 },
 "nbformat": 4,
 "nbformat_minor": 2
}
